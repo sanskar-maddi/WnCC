{
 "cells": [
  {
   "cell_type": "code",
   "execution_count": null,
   "metadata": {},
   "outputs": [],
   "source": [
    "%pylab inline\n",
    "from numpy import *"
   ]
  },
  {
   "cell_type": "code",
   "execution_count": null,
   "metadata": {},
   "outputs": [],
   "source": [
    "z = loadtxt('timestat.txt', str, unpack=True)\n",
    "n=z[1]"
   ]
  },
  {
   "cell_type": "code",
   "execution_count": null,
   "metadata": {},
   "outputs": [],
   "source": [
    "def time_sec(x):\n",
    "    a=x.split('m')\n",
    "    x=(float(a[0]))*60\n",
    "    b=a[1].split('s')\n",
    "    y=float(b[0])\n",
    "    return x+y"
   ]
  },
  {
   "cell_type": "code",
   "execution_count": null,
   "metadata": {},
   "outputs": [],
   "source": [
    "r,u,s=[],[],[]\n",
    "l=len(n)\n",
    "for i in range(l):\n",
    "    if (i%3==0):\n",
    "        r.append(time_sec(n[i]))\n",
    "    elif (i%3==1):\n",
    "        u.append(time_sec(n[i]))\n",
    "    else:\n",
    "        s.append(time_sec(n[i]))"
   ]
  },
  {
   "cell_type": "code",
   "execution_count": null,
   "metadata": {},
   "outputs": [],
   "source": [
    "avgr, avgu, avgs = mean(r), mean(u), mean(s)\n",
    "std_r, std_u, std_s = std(r), std(u), std(s)\n",
    "for i in r:\n",
    "    if (i<(avgr-std_r) or i>(avgr+std_r)):\n",
    "        r.remove(i)\n",
    "for i in u:\n",
    "    if (i<(avgu-std_u) or i>(avgu+std_u)):\n",
    "        u.remove(i)\n",
    "for i in s:\n",
    "    if (i<(avgs-std_s) or i>(avgs+std_s)):\n",
    "        s.remove(i)"
   ]
  },
  {
   "cell_type": "code",
   "execution_count": null,
   "metadata": {},
   "outputs": [],
   "source": [
    "print('Number of runs : ',l)\n",
    "print('Average Time statistics')\n",
    "print('real ',avgr,'    user ',avgu,'    sys ',avgs)\n",
    "print('Standard deviation of Time statistics')\n",
    "print('real ',std_r,'    user ',std_u,'   sys ',std_s)\n",
    "print('Number of runs within average')\n",
    "print('real ',len(r),'    user ',len(u),'    sys ',len(s))\n"
   ]
  }
 ],
 "metadata": {
  "kernelspec": {
   "display_name": "Python 3",
   "language": "python",
   "name": "python3"
  },
  "language_info": {
   "codemirror_mode": {
    "name": "ipython",
    "version": 3
   },
   "file_extension": ".py",
   "mimetype": "text/x-python",
   "name": "python",
   "nbconvert_exporter": "python",
   "pygments_lexer": "ipython3",
   "version": "3.7.4"
  }
 },
 "nbformat": 4,
 "nbformat_minor": 2
}
